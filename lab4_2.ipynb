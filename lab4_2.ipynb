{
  "nbformat": 4,
  "nbformat_minor": 0,
  "metadata": {
    "colab": {
      "provenance": [],
      "authorship_tag": "ABX9TyObC+4hw4ilyHSISDxh0b99",
      "include_colab_link": true
    },
    "kernelspec": {
      "name": "python3",
      "display_name": "Python 3"
    },
    "language_info": {
      "name": "python"
    }
  },
  "cells": [
    {
      "cell_type": "markdown",
      "metadata": {
        "id": "view-in-github",
        "colab_type": "text"
      },
      "source": [
        "<a href=\"https://colab.research.google.com/github/Is7ac/ML/blob/main/lab4_2.ipynb\" target=\"_parent\"><img src=\"https://colab.research.google.com/assets/colab-badge.svg\" alt=\"Open In Colab\"/></a>"
      ]
    },
    {
      "cell_type": "code",
      "execution_count": 12,
      "metadata": {
        "id": "plJBLAPkdlmW"
      },
      "outputs": [],
      "source": [
        "import math\n",
        "import numpy as np\n",
        "from sklearn.tree import DecisionTreeClassifier, export_text"
      ]
    },
    {
      "cell_type": "code",
      "source": [
        "# Data\n",
        "Ins = [(\"T\", \"T\", 5.0), (\"T\", \"T\", 7.0), (\"T\", \"F\", 8.0), (\"F\", \"F\", 3.0), (\"F\", \"T\", 7.0),\n",
        "       (\"F\", \"T\", 4.0), (\"F\", \"F\", 5.0), (\"T\", \"F\", 6.0), (\"F\", \"T\", 1.0)]\n",
        "classes = [\"Y\", \"Y\", \"N\", \"Y\", \"N\", \"N\", \"N\", \"Y\", \"N\"]"
      ],
      "metadata": {
        "id": "3-jpqHd7dsmZ"
      },
      "execution_count": 2,
      "outputs": []
    },
    {
      "cell_type": "code",
      "source": [
        "def entropy(class_list):\n",
        "    total = len(class_list)\n",
        "    class_counts = {}\n",
        "    for c in class_list:\n",
        "        if c not in class_counts:\n",
        "            class_counts[c] = 0\n",
        "        class_counts[c] += 1\n",
        "    entropy_value = 0\n",
        "    for count in class_counts.values():\n",
        "        p = count / total\n",
        "        entropy_value -= p * math.log2(p)\n",
        "    return entropy_value"
      ],
      "metadata": {
        "id": "_KRyUmYddzcM"
      },
      "execution_count": 3,
      "outputs": []
    },
    {
      "cell_type": "code",
      "source": [
        "def gini_index(class_list):\n",
        "    total = len(class_list)\n",
        "    class_counts = {}\n",
        "    for c in class_list:\n",
        "        if c not in class_counts:\n",
        "            class_counts[c] = 0\n",
        "        class_counts[c] += 1\n",
        "    gini_value = 1\n",
        "    for count in class_counts.values():\n",
        "        p = count / total\n",
        "        gini_value -= p ** 2\n",
        "    return gini_value"
      ],
      "metadata": {
        "id": "Jdjx2zu5d16V"
      },
      "execution_count": 4,
      "outputs": []
    },
    {
      "cell_type": "code",
      "source": [
        "def info_gain(data, classes, split_function):\n",
        "    total_entropy = entropy(classes)\n",
        "    subsets = split_function(data, classes)\n",
        "    subset_entropy = 0\n",
        "    total_length = len(classes)\n",
        "    for subset in subsets:\n",
        "        subset_entropy += (len(subset) / total_length) * entropy([classes[i] for i in subset])\n",
        "    return total_entropy - subset_entropy\n"
      ],
      "metadata": {
        "id": "290jbk4Gd4JF"
      },
      "execution_count": 5,
      "outputs": []
    },
    {
      "cell_type": "code",
      "source": [
        "def gini_gain(data, classes, split_function):\n",
        "    total_gini = gini_index(classes)\n",
        "    subsets = split_function(data, classes)\n",
        "    subset_gini = 0\n",
        "    total_length = len(classes)\n",
        "    for subset in subsets:\n",
        "        subset_gini += (len(subset) / total_length) * gini_index([classes[i] for i in subset])\n",
        "    return total_gini - subset_gini"
      ],
      "metadata": {
        "id": "LbbwELvpd6sD"
      },
      "execution_count": 6,
      "outputs": []
    },
    {
      "cell_type": "code",
      "source": [
        "def split_by_first_attribute(data, classes):\n",
        "    true_indices = [i for i, instance in enumerate(data) if instance[0] == \"T\"]\n",
        "    false_indices = [i for i, instance in enumerate(data) if instance[0] == \"F\"]\n",
        "    return [true_indices, false_indices]\n"
      ],
      "metadata": {
        "id": "1-w6iUQkd8wI"
      },
      "execution_count": 7,
      "outputs": []
    },
    {
      "cell_type": "code",
      "source": [
        "def split_by_second_attribute(data, classes):\n",
        "    true_indices = [i for i, instance in enumerate(data) if instance[1] == \"T\"]\n",
        "    false_indices = [i for i, instance in enumerate(data) if instance[1] == \"F\"]\n",
        "    return [true_indices, false_indices]"
      ],
      "metadata": {
        "id": "N4gJNrkfeBrC"
      },
      "execution_count": 8,
      "outputs": []
    },
    {
      "cell_type": "code",
      "source": [
        "def split_by_numerical_attribute(data, classes, threshold):\n",
        "    less_equal_indices = [i for i, instance in enumerate(data) if instance[2] <= threshold]\n",
        "    greater_indices = [i for i, instance in enumerate(data) if instance[2] > threshold]\n",
        "    return [less_equal_indices, greater_indices]"
      ],
      "metadata": {
        "id": "n3LIMBAbeCgJ"
      },
      "execution_count": 9,
      "outputs": []
    },
    {
      "cell_type": "code",
      "source": [
        "# Calculate Information Gain and Gini Gain for first and second attributes\n",
        "ig_first = info_gain(Ins, classes, split_by_first_attribute)\n",
        "ig_second = info_gain(Ins, classes, split_by_second_attribute)\n",
        "\n",
        "gg_first = gini_gain(Ins, classes, split_by_first_attribute)\n",
        "gg_second = gini_gain(Ins, classes, split_by_second_attribute)"
      ],
      "metadata": {
        "id": "Id_boVlweJMS"
      },
      "execution_count": 10,
      "outputs": []
    },
    {
      "cell_type": "code",
      "source": [
        "# Calculate Information Gain and Gini Gain for numerical attribute\n",
        "# We need to test multiple thresholds for the numerical attribute\n",
        "thresholds = sorted(set([x[2] for x in Ins]))\n",
        "ig_numerical = max(info_gain(Ins, classes, lambda data, cls: split_by_numerical_attribute(data, cls, threshold)) for threshold in thresholds)\n",
        "gg_numerical = max(gini_gain(Ins, classes, lambda data, cls: split_by_numerical_attribute(data, cls, threshold)) for threshold in thresholds)\n",
        "\n",
        "print(f\"Information Gain for first attribute: {ig_first}\")\n",
        "print(f\"Information Gain for second attribute: {ig_second}\")\n",
        "print(f\"Information Gain for numerical attribute: {ig_numerical}\")\n",
        "\n",
        "print(f\"Gini Gain for first attribute: {gg_first}\")\n",
        "print(f\"Gini Gain for second attribute: {gg_second}\")\n",
        "print(f\"Gini Gain for numerical attribute: {gg_numerical}\")"
      ],
      "metadata": {
        "colab": {
          "base_uri": "https://localhost:8080/"
        },
        "id": "syRzQLR4eMTG",
        "outputId": "76a197bb-6bcd-4b26-8363-bfe41ebb0280"
      },
      "execution_count": 11,
      "outputs": [
        {
          "output_type": "stream",
          "name": "stdout",
          "text": [
            "Information Gain for first attribute: 0.22943684069673975\n",
            "Information Gain for second attribute: 0.007214618474517431\n",
            "Information Gain for numerical attribute: 0.10218717094933338\n",
            "Gini Gain for first attribute: 0.1493827160493828\n",
            "Gini Gain for second attribute: 0.00493827160493826\n",
            "Gini Gain for numerical attribute: 0.04938271604938271\n"
          ]
        }
      ]
    },
    {
      "cell_type": "code",
      "source": [
        "pip install scikit-learn"
      ],
      "metadata": {
        "colab": {
          "base_uri": "https://localhost:8080/"
        },
        "id": "I1cFP3eAel8g",
        "outputId": "6411e8e0-05ec-4e80-b931-f6f13fbd121e"
      },
      "execution_count": 13,
      "outputs": [
        {
          "output_type": "stream",
          "name": "stdout",
          "text": [
            "Requirement already satisfied: scikit-learn in /usr/local/lib/python3.10/dist-packages (1.2.2)\n",
            "Requirement already satisfied: numpy>=1.17.3 in /usr/local/lib/python3.10/dist-packages (from scikit-learn) (1.25.2)\n",
            "Requirement already satisfied: scipy>=1.3.2 in /usr/local/lib/python3.10/dist-packages (from scikit-learn) (1.11.4)\n",
            "Requirement already satisfied: joblib>=1.1.1 in /usr/local/lib/python3.10/dist-packages (from scikit-learn) (1.4.2)\n",
            "Requirement already satisfied: threadpoolctl>=2.0.0 in /usr/local/lib/python3.10/dist-packages (from scikit-learn) (3.5.0)\n"
          ]
        }
      ]
    },
    {
      "cell_type": "code",
      "source": [
        "\n",
        "# Data\n",
        "Ins = [(\"T\", \"T\", 5.0), (\"T\", \"T\", 7.0), (\"T\", \"F\", 8.0), (\"F\", \"F\", 3.0), (\"F\", \"T\", 7.0),\n",
        "       (\"F\", \"T\", 4.0), (\"F\", \"F\", 5.0), (\"T\", \"F\", 6.0), (\"F\", \"T\", 1.0)]\n",
        "classes = [\"Y\", \"Y\", \"N\", \"Y\", \"N\", \"N\", \"N\", \"Y\", \"N\"]\n",
        "\n"
      ],
      "metadata": {
        "id": "GAUW503Nekic"
      },
      "execution_count": 14,
      "outputs": []
    },
    {
      "cell_type": "code",
      "source": [
        "\n",
        "# Convert categorical data to numerical data\n",
        "data = []\n",
        "for instance in Ins:\n",
        "    data.append([\n",
        "        1 if instance[0] == \"T\" else 0,  # Convert first attribute to binary\n",
        "        1 if instance[1] == \"T\" else 0,  # Convert second attribute to binary\n",
        "        instance[2]  # Numerical value\n",
        "    ])\n",
        "\n",
        "# Convert class labels to binary\n",
        "class_labels = [1 if c == \"Y\" else 0 for c in classes]\n",
        "\n"
      ],
      "metadata": {
        "id": "lITGxytXe07j"
      },
      "execution_count": 18,
      "outputs": []
    },
    {
      "cell_type": "code",
      "source": [
        "# Fit the decision tree classifier\n",
        "clf = DecisionTreeClassifier()\n",
        "clf.fit(data, class_labels)\n",
        "\n",
        "# Print the decision tree\n",
        "tree_rules = export_text(clf, feature_names=[\"First Attribute\", \"Second Attribute\", \"Numerical Attribute\"])\n",
        "print(tree_rules)\n",
        "\n",
        "# Print feature importances\n",
        "feature_importances = clf.feature_importances_\n",
        "print(\"Feature importances:\", feature_importances)"
      ],
      "metadata": {
        "colab": {
          "base_uri": "https://localhost:8080/"
        },
        "id": "EaBNfV-ne2s9",
        "outputId": "621fc3a4-6c24-419c-8779-13a78e2c7554"
      },
      "execution_count": 19,
      "outputs": [
        {
          "output_type": "stream",
          "name": "stdout",
          "text": [
            "|--- First Attribute <= 0.50\n",
            "|   |--- Second Attribute <= 0.50\n",
            "|   |   |--- Numerical Attribute <= 4.00\n",
            "|   |   |   |--- class: 1\n",
            "|   |   |--- Numerical Attribute >  4.00\n",
            "|   |   |   |--- class: 0\n",
            "|   |--- Second Attribute >  0.50\n",
            "|   |   |--- class: 0\n",
            "|--- First Attribute >  0.50\n",
            "|   |--- Numerical Attribute <= 7.50\n",
            "|   |   |--- class: 1\n",
            "|   |--- Numerical Attribute >  7.50\n",
            "|   |   |--- class: 0\n",
            "\n",
            "Feature importances: [0.3025 0.135  0.5625]\n"
          ]
        }
      ]
    }
  ]
}