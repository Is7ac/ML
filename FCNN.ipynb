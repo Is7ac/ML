{
  "nbformat": 4,
  "nbformat_minor": 0,
  "metadata": {
    "colab": {
      "provenance": [],
      "mount_file_id": "16dL-aCvKSSAp0hg7xMI6NL6tpPJTSHDJ",
      "authorship_tag": "ABX9TyPUgnw/Khgmj4LyghNwsW4L",
      "include_colab_link": true
    },
    "kernelspec": {
      "name": "python3",
      "display_name": "Python 3"
    },
    "language_info": {
      "name": "python"
    }
  },
  "cells": [
    {
      "cell_type": "markdown",
      "metadata": {
        "id": "view-in-github",
        "colab_type": "text"
      },
      "source": [
        "<a href=\"https://colab.research.google.com/github/Is7ac/ML/blob/main/FCNN.ipynb\" target=\"_parent\"><img src=\"https://colab.research.google.com/assets/colab-badge.svg\" alt=\"Open In Colab\"/></a>"
      ]
    },
    {
      "cell_type": "code",
      "execution_count": 1,
      "metadata": {
        "id": "_0eZ4Ppc3ann"
      },
      "outputs": [],
      "source": [
        "import torch\n",
        "import torch.nn as nn\n",
        "import torch.optim as optim\n",
        "from torchvision import transforms\n",
        "from torch.utils.data import DataLoader, Dataset\n",
        "import cv2\n",
        "import numpy as np\n",
        "import os"
      ]
    },
    {
      "cell_type": "code",
      "source": [
        "# Define dataset class\n",
        "class CustomDataset(Dataset):\n",
        "    def __init__(self, data_dir, transform=None):\n",
        "        self.data_dir = data_dir\n",
        "        self.transform = transform\n",
        "        self.classes = os.listdir(data_dir)\n",
        "        self.images = []\n",
        "        self.labels = []\n",
        "\n",
        "        for i, class_name in enumerate(self.classes):\n",
        "            class_dir = os.path.join(data_dir, class_name)\n",
        "            for image_name in os.listdir(class_dir):\n",
        "                self.images.append(os.path.join(class_dir, image_name))\n",
        "                self.labels.append(i)\n",
        "\n",
        "    def __len__(self):\n",
        "        return len(self.images)\n",
        "\n",
        "    def __getitem__(self, idx):\n",
        "        image = cv2.imread(self.images[idx])\n",
        "        label = self.labels[idx]\n",
        "\n",
        "        if self.transform:\n",
        "            image = self.transform(image)\n",
        "\n",
        "        return image, label"
      ],
      "metadata": {
        "id": "z6qeKHF53eJG"
      },
      "execution_count": 2,
      "outputs": []
    },
    {
      "cell_type": "code",
      "source": [
        "# Define image transformations\n",
        "transform = transforms.Compose([\n",
        "    transforms.ToPILImage(),\n",
        "    transforms.Resize((64, 64)),\n",
        "    transforms.ToTensor(),\n",
        "])\n",
        "\n"
      ],
      "metadata": {
        "id": "FLG8dQy43jIt"
      },
      "execution_count": 3,
      "outputs": []
    },
    {
      "cell_type": "code",
      "source": [
        "# Define neural network architecture\n",
        "class NeuralNetwork(nn.Module):\n",
        "    def __init__(self, input_size, num_classes):\n",
        "        super(NeuralNetwork, self).__init__()\n",
        "        self.fc1 = nn.Linear(input_size, 128)\n",
        "        self.fc2 = nn.Linear(128, num_classes)\n",
        "\n",
        "    def forward(self, x):\n",
        "        x = x.view(x.size(0), -1)  # Flatten the input\n",
        "        x = torch.relu(self.fc1(x))\n",
        "        x = self.fc2(x)\n",
        "        return x"
      ],
      "metadata": {
        "id": "CBTvBpKi3tl5"
      },
      "execution_count": 4,
      "outputs": []
    },
    {
      "cell_type": "code",
      "source": [
        "# Define dataset and dataloader\n",
        "dataset = CustomDataset(data_dir='/content/drive/MyDrive/chest_xray/train', transform=transform)\n",
        "dataloader = DataLoader(dataset, batch_size=32, shuffle=True)\n",
        "\n",
        "# Define validation dataset and dataloader\n",
        "val_dataset = CustomDataset(data_dir='/content/drive/MyDrive/chest_xray/val', transform=transform)  # Use the same transform as training\n",
        "val_dataloader = DataLoader(val_dataset, batch_size=32, shuffle=False)\n",
        "\n",
        "# Initialize the neural network\n",
        "input_size = 12288  # Image size after resizing and flattening\n",
        "num_classes = len(dataset.classes)\n",
        "model = NeuralNetwork(input_size, num_classes)\n",
        "\n",
        "# Define loss function and optimizer\n",
        "criterion = nn.CrossEntropyLoss()\n",
        "optimizer = optim.Adam(model.parameters(), lr=0.001)\n",
        "\n",
        "# Training loop\n",
        "num_epochs = 10\n",
        "for epoch in range(num_epochs):\n",
        "    model.train()  # Set the model to train mode\n",
        "    for images, labels in dataloader:\n",
        "        optimizer.zero_grad()\n",
        "        outputs = model(images)\n",
        "        loss = criterion(outputs, labels)\n",
        "        loss.backward()\n",
        "        optimizer.step()\n",
        "\n",
        "    # Validation loop\n",
        "    model.eval()  # Set the model to evaluation mode\n",
        "    val_loss = 0\n",
        "    val_correct = 0\n",
        "    val_total = 0\n",
        "    with torch.no_grad():\n",
        "        for images, labels in val_dataloader:\n",
        "            outputs = model(images)\n",
        "            _, predicted = torch.max(outputs.data, 1)\n",
        "            val_total += labels.size(0)\n",
        "            val_correct += (predicted == labels).sum().item()\n",
        "            val_loss += criterion(outputs, labels).item()\n",
        "\n",
        "    # Calculate average loss and accuracy for validation set\n",
        "    avg_val_loss = val_loss / len(val_dataloader)\n",
        "    val_accuracy = 100 * val_correct / val_total\n",
        "\n",
        "    print(f'Epoch [{epoch+1}/{num_epochs}], '\n",
        "          f'Training Loss: {loss.item():.4f}, '\n",
        "          f'Validation Loss: {avg_val_loss:.4f}, '\n",
        "          f'Validation Accuracy: {val_accuracy:.2f}%')"
      ],
      "metadata": {
        "id": "bOmO_2xo3wgy",
        "colab": {
          "base_uri": "https://localhost:8080/"
        },
        "outputId": "ee895176-f05b-4ba5-ce6a-795fb9eb6cb0"
      },
      "execution_count": 6,
      "outputs": [
        {
          "output_type": "stream",
          "name": "stdout",
          "text": [
            "Epoch [1/10], Training Loss: 0.1748, Validation Loss: 0.3064, Validation Accuracy: 93.75%\n",
            "Epoch [2/10], Training Loss: 0.1181, Validation Loss: 0.3700, Validation Accuracy: 81.25%\n",
            "Epoch [3/10], Training Loss: 0.1860, Validation Loss: 0.2298, Validation Accuracy: 93.75%\n",
            "Epoch [4/10], Training Loss: 0.1228, Validation Loss: 0.5898, Validation Accuracy: 75.00%\n",
            "Epoch [5/10], Training Loss: 0.2751, Validation Loss: 0.2531, Validation Accuracy: 87.50%\n",
            "Epoch [6/10], Training Loss: 0.0255, Validation Loss: 0.5037, Validation Accuracy: 75.00%\n",
            "Epoch [7/10], Training Loss: 0.1083, Validation Loss: 0.2008, Validation Accuracy: 93.75%\n",
            "Epoch [8/10], Training Loss: 0.0638, Validation Loss: 0.5131, Validation Accuracy: 75.00%\n",
            "Epoch [9/10], Training Loss: 0.1840, Validation Loss: 0.2486, Validation Accuracy: 93.75%\n",
            "Epoch [10/10], Training Loss: 0.1353, Validation Loss: 0.2178, Validation Accuracy: 93.75%\n"
          ]
        }
      ]
    },
    {
      "cell_type": "code",
      "source": [
        "# Define testing dataset and dataloader\n",
        "test_dataset = CustomDataset(data_dir='/content/drive/MyDrive/chest_xray/test', transform=transform)  # Use the same transform as training\n",
        "test_dataloader = DataLoader(test_dataset, batch_size=32, shuffle=False)\n",
        "\n",
        "# Testing loop\n",
        "model.eval()  # Set the model to evaluation mode\n",
        "correct = 0\n",
        "total = 0\n",
        "with torch.no_grad():\n",
        "    for images, labels in test_dataloader:\n",
        "        outputs = model(images)\n",
        "        _, predicted = torch.max(outputs.data, 1)\n",
        "        total += labels.size(0)\n",
        "        correct += (predicted == labels).sum().item()\n",
        "\n",
        "print(f'Accuracy on the test set: {100 * correct / total:.2f}%')"
      ],
      "metadata": {
        "id": "4WFbAYlo4Liu",
        "colab": {
          "base_uri": "https://localhost:8080/"
        },
        "outputId": "aefa3cc4-f6d8-4567-d42f-6248e451abc8"
      },
      "execution_count": 7,
      "outputs": [
        {
          "output_type": "stream",
          "name": "stdout",
          "text": [
            "Accuracy on the test set: 78.85%\n"
          ]
        }
      ]
    }
  ]
}