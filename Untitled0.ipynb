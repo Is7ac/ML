{
  "nbformat": 4,
  "nbformat_minor": 0,
  "metadata": {
    "colab": {
      "provenance": [],
      "mount_file_id": "16dL-aCvKSSAp0hg7xMI6NL6tpPJTSHDJ",
      "authorship_tag": "ABX9TyNcuOu5sVMl12v11AEu73Io",
      "include_colab_link": true
    },
    "kernelspec": {
      "name": "python3",
      "display_name": "Python 3"
    },
    "language_info": {
      "name": "python"
    }
  },
  "cells": [
    {
      "cell_type": "markdown",
      "metadata": {
        "id": "view-in-github",
        "colab_type": "text"
      },
      "source": [
        "<a href=\"https://colab.research.google.com/github/Is7ac/ML/blob/main/Untitled0.ipynb\" target=\"_parent\"><img src=\"https://colab.research.google.com/assets/colab-badge.svg\" alt=\"Open In Colab\"/></a>"
      ]
    },
    {
      "cell_type": "code",
      "execution_count": 1,
      "metadata": {
        "id": "_0eZ4Ppc3ann"
      },
      "outputs": [],
      "source": [
        "import torch\n",
        "import torch.nn as nn\n",
        "import torch.optim as optim\n",
        "from torchvision import transforms\n",
        "from torch.utils.data import DataLoader, Dataset\n",
        "import cv2\n",
        "import numpy as np\n",
        "import os"
      ]
    },
    {
      "cell_type": "code",
      "source": [
        "# Define dataset class\n",
        "class CustomDataset(Dataset):\n",
        "    def __init__(self, data_dir, transform=None):\n",
        "        self.data_dir = data_dir\n",
        "        self.transform = transform\n",
        "        self.classes = os.listdir(data_dir)\n",
        "        self.images = []\n",
        "        self.labels = []\n",
        "\n",
        "        for i, class_name in enumerate(self.classes):\n",
        "            class_dir = os.path.join(data_dir, class_name)\n",
        "            for image_name in os.listdir(class_dir):\n",
        "                self.images.append(os.path.join(class_dir, image_name))\n",
        "                self.labels.append(i)\n",
        "\n",
        "    def __len__(self):\n",
        "        return len(self.images)\n",
        "\n",
        "    def __getitem__(self, idx):\n",
        "        image = cv2.imread(self.images[idx])\n",
        "        label = self.labels[idx]\n",
        "\n",
        "        if self.transform:\n",
        "            image = self.transform(image)\n",
        "\n",
        "        return image, label"
      ],
      "metadata": {
        "id": "z6qeKHF53eJG"
      },
      "execution_count": 2,
      "outputs": []
    },
    {
      "cell_type": "code",
      "source": [
        "# Define image transformations\n",
        "transform = transforms.Compose([\n",
        "    transforms.ToPILImage(),\n",
        "    transforms.Resize((64, 64)),\n",
        "    transforms.ToTensor(),\n",
        "])\n",
        "\n",
        "# Define dataset and dataloader\n",
        "dataset = CustomDataset(data_dir='/content/drive/MyDrive/chest_xray/train', transform=transform)\n",
        "dataloader = DataLoader(dataset, batch_size=32, shuffle=True)"
      ],
      "metadata": {
        "id": "FLG8dQy43jIt"
      },
      "execution_count": 6,
      "outputs": []
    },
    {
      "cell_type": "code",
      "source": [
        "# Define neural network architecture\n",
        "class NeuralNetwork(nn.Module):\n",
        "    def __init__(self, input_size, num_classes):\n",
        "        super(NeuralNetwork, self).__init__()\n",
        "        self.fc1 = nn.Linear(input_size, 128)\n",
        "        self.fc2 = nn.Linear(128, num_classes)\n",
        "\n",
        "    def forward(self, x):\n",
        "        x = x.view(x.size(0), -1)  # Flatten the input\n",
        "        x = torch.relu(self.fc1(x))\n",
        "        x = self.fc2(x)\n",
        "        return x"
      ],
      "metadata": {
        "id": "CBTvBpKi3tl5"
      },
      "execution_count": 4,
      "outputs": []
    },
    {
      "cell_type": "code",
      "source": [
        "# Initialize the neural network\n",
        "input_size = 64 * 64 * 3  # Image size after resizing and flattening\n",
        "num_classes = len(dataset.classes)\n",
        "model = NeuralNetwork(input_size, num_classes)\n",
        "\n",
        "# Define loss function and optimizer\n",
        "criterion = nn.CrossEntropyLoss()\n",
        "optimizer = optim.Adam(model.parameters(), lr=0.001)\n",
        "\n",
        "# Training loop\n",
        "num_epochs = 10\n",
        "for epoch in range(num_epochs):\n",
        "    for images, labels in dataloader:\n",
        "        optimizer.zero_grad()\n",
        "        outputs = model(images)\n",
        "        loss = criterion(outputs, labels)\n",
        "        loss.backward()\n",
        "        optimizer.step()\n",
        "\n",
        "    print(f'Epoch [{epoch+1}/{num_epochs}], Loss: {loss.item():.4f}')\n",
        "\n",
        "# Validation loop (not implemented here)\n",
        "# Evaluate the model on a separate validation set to monitor its performance."
      ],
      "metadata": {
        "colab": {
          "base_uri": "https://localhost:8080/"
        },
        "id": "bOmO_2xo3wgy",
        "outputId": "0797f122-c3a9-4875-9fc3-86b2b4995714"
      },
      "execution_count": 7,
      "outputs": [
        {
          "output_type": "stream",
          "name": "stdout",
          "text": [
            "Epoch [1/10], Loss: 0.0934\n",
            "Epoch [2/10], Loss: 0.0941\n",
            "Epoch [3/10], Loss: 0.0935\n",
            "Epoch [4/10], Loss: 0.0439\n",
            "Epoch [5/10], Loss: 0.2893\n",
            "Epoch [6/10], Loss: 0.1016\n",
            "Epoch [7/10], Loss: 0.2104\n",
            "Epoch [8/10], Loss: 0.0577\n",
            "Epoch [9/10], Loss: 0.0757\n",
            "Epoch [10/10], Loss: 0.0430\n"
          ]
        }
      ]
    },
    {
      "cell_type": "code",
      "source": [
        "# Define testing dataset and dataloader\n",
        "test_dataset = CustomDataset(data_dir='/content/drive/MyDrive/chest_xray/test', transform=transform)  # Use the same transform as training\n",
        "test_dataloader = DataLoader(test_dataset, batch_size=32, shuffle=False)\n",
        "\n",
        "# Testing loop\n",
        "model.eval()  # Set the model to evaluation mode\n",
        "correct = 0\n",
        "total = 0\n",
        "with torch.no_grad():\n",
        "    for images, labels in test_dataloader:\n",
        "        outputs = model(images)\n",
        "        _, predicted = torch.max(outputs.data, 1)\n",
        "        total += labels.size(0)\n",
        "        correct += (predicted == labels).sum().item()\n",
        "\n",
        "print(f'Accuracy on the test set: {100 * correct / total:.2f}%')"
      ],
      "metadata": {
        "colab": {
          "base_uri": "https://localhost:8080/"
        },
        "id": "4WFbAYlo4Liu",
        "outputId": "3909d030-4ef0-43cd-a0a6-beeb692344ba"
      },
      "execution_count": 8,
      "outputs": [
        {
          "output_type": "stream",
          "name": "stdout",
          "text": [
            "Accuracy on the test set: 73.56%\n"
          ]
        }
      ]
    }
  ]
}