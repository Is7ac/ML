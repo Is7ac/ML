{
  "nbformat": 4,
  "nbformat_minor": 0,
  "metadata": {
    "colab": {
      "provenance": [],
      "include_colab_link": true
    },
    "kernelspec": {
      "name": "python3",
      "display_name": "Python 3"
    },
    "language_info": {
      "name": "python"
    }
  },
  "cells": [
    {
      "cell_type": "markdown",
      "metadata": {
        "id": "view-in-github",
        "colab_type": "text"
      },
      "source": [
        "<a href=\"https://colab.research.google.com/github/Is7ac/ML/blob/main/Final.ipynb\" target=\"_parent\"><img src=\"https://colab.research.google.com/assets/colab-badge.svg\" alt=\"Open In Colab\"/></a>"
      ]
    },
    {
      "cell_type": "code",
      "execution_count": 1,
      "metadata": {
        "id": "NUNCKZmfi-1_"
      },
      "outputs": [],
      "source": [
        "import numpy as np\n",
        "import cv2\n",
        "import os\n",
        "from sklearn.model_selection import train_test_split\n",
        "import tensorflow as tf"
      ]
    },
    {
      "cell_type": "code",
      "source": [
        "from google.colab import drive\n",
        "drive.mount('/content/drive')"
      ],
      "metadata": {
        "id": "j4CxOzEDmV9r",
        "outputId": "e439d793-0442-4b50-f9a4-843ed4ad7535",
        "colab": {
          "base_uri": "https://localhost:8080/"
        }
      },
      "execution_count": 5,
      "outputs": [
        {
          "output_type": "stream",
          "name": "stdout",
          "text": [
            "Mounted at /content/drive\n"
          ]
        }
      ]
    },
    {
      "cell_type": "code",
      "source": [
        "dataset_dir = \"/content/drive/MyDrive/chest_xray/train\""
      ],
      "metadata": {
        "id": "3bcxnH_waoII"
      },
      "execution_count": 8,
      "outputs": []
    },
    {
      "cell_type": "code",
      "source": [
        "# Step 2: Image Preprocessing\n",
        "\n",
        "# Define a function to preprocess images\n",
        "def preprocess_image(image_path, target_size):\n",
        "    image = cv2.imread(image_path)\n",
        "    image = cv2.resize(image, target_size)\n",
        "    image_vector = image.flatten()  # Flatten the image\n",
        "    return image_vector"
      ],
      "metadata": {
        "id": "y4Yw4lcvs6k-"
      },
      "execution_count": 3,
      "outputs": []
    },
    {
      "cell_type": "code",
      "source": [
        "# Define target image size\n",
        "target_size = (128, 128)\n",
        "\n",
        "# Load images and labels\n",
        "images = []\n",
        "labels = []\n",
        "\n",
        "for class_name in os.listdir(dataset_dir):\n",
        "    class_dir = os.path.join(dataset_dir, class_name)\n",
        "    for image_name in os.listdir(class_dir):\n",
        "        image_path = os.path.join(class_dir, image_name)\n",
        "        image_vector = preprocess_image(image_path, target_size)\n",
        "        images.append(image_vector)\n",
        "        labels.append(class_name)  # Assuming folder names are class labels\n",
        "\n",
        "# Convert lists to numpy arrays\n",
        "images = np.array(images)\n",
        "labels = np.array(labels)\n"
      ],
      "metadata": {
        "id": "XHVD5s9zjeku"
      },
      "execution_count": 9,
      "outputs": []
    },
    {
      "cell_type": "code",
      "source": [
        "# Step 3: Classification - Fully Connected Neural Network\n",
        "\n",
        "# Split the dataset into training and testing sets\n",
        "X_train, X_test, y_train, y_test = train_test_split(images, labels, test_size=0.2, random_state=42)\n"
      ],
      "metadata": {
        "id": "B0qDlhbXa83K"
      },
      "execution_count": 10,
      "outputs": []
    },
    {
      "cell_type": "code",
      "source": [
        "# Define the neural network manually\n",
        "class FullyConnectedNN(tf.keras.Model):\n",
        "    def __init__(self):\n",
        "        super(FullyConnectedNN, self).__init__()\n",
        "        self.flatten = tf.keras.layers.Flatten(input_shape=(np.prod(target_size),))\n",
        "        self.fc1 = tf.keras.layers.Dense(128, activation='relu')\n",
        "        self.fc2 = tf.keras.layers.Dense(64, activation='relu')\n",
        "        self.output_layer = tf.keras.layers.Dense(2, activation='softmax')  # Assuming binary classification (2 classes)\n",
        "\n",
        "    def call(self, inputs):\n",
        "        x = self.flatten(inputs)\n",
        "        x = self.fc1(x)\n",
        "        x = self.fc2(x)\n",
        "        return self.output_layer(x)\n"
      ],
      "metadata": {
        "id": "8i21NDNNbQf0"
      },
      "execution_count": 11,
      "outputs": []
    },
    {
      "cell_type": "code",
      "source": [
        "# Create an instance of the model\n",
        "model = FullyConnectedNN()\n",
        "\n",
        "# Compile the model\n",
        "model.compile(optimizer='adam',\n",
        "              loss='sparse_categorical_crossentropy',\n",
        "              metrics=['accuracy'])\n",
        "\n",
        "# Define batch size and number of epochs\n",
        "batch_size = 32\n",
        "epochs = 10\n",
        "\n",
        "# Convert string labels to integer labels\n",
        "label_map = {label: idx for idx, label in enumerate(np.unique(labels))}\n",
        "y_train = np.array([label_map[label] for label in y_train])\n",
        "y_test = np.array([label_map[label] for label in y_test])\n",
        "\n",
        "# Train the model\n",
        "model.fit(X_train, y_train, epochs=epochs, batch_size=batch_size, validation_split=0.2)\n",
        "\n",
        "# Evaluate the model\n",
        "test_loss, test_acc = model.evaluate(X_test, y_test)\n",
        "print(\"Test Accuracy:\", test_acc)"
      ],
      "metadata": {
        "id": "aByI9zGkbTfc",
        "outputId": "eaf04d51-5ce2-4e95-aec1-d016f4d955bc",
        "colab": {
          "base_uri": "https://localhost:8080/"
        }
      },
      "execution_count": 14,
      "outputs": [
        {
          "output_type": "stream",
          "name": "stdout",
          "text": [
            "Epoch 1/10\n",
            "105/105 [==============================] - 15s 128ms/step - loss: 208.0339 - accuracy: 0.8343 - val_loss: 245.2862 - val_accuracy: 0.4599\n",
            "Epoch 2/10\n",
            "105/105 [==============================] - 11s 103ms/step - loss: 92.1698 - accuracy: 0.8592 - val_loss: 35.9933 - val_accuracy: 0.9138\n",
            "Epoch 3/10\n",
            "105/105 [==============================] - 12s 110ms/step - loss: 31.1563 - accuracy: 0.9170 - val_loss: 14.1996 - val_accuracy: 0.9521\n",
            "Epoch 4/10\n",
            "105/105 [==============================] - 12s 111ms/step - loss: 24.1085 - accuracy: 0.9263 - val_loss: 23.0227 - val_accuracy: 0.9234\n",
            "Epoch 5/10\n",
            "105/105 [==============================] - 12s 112ms/step - loss: 45.8121 - accuracy: 0.9017 - val_loss: 983.5479 - val_accuracy: 0.7437\n",
            "Epoch 6/10\n",
            "105/105 [==============================] - 11s 109ms/step - loss: 40.8400 - accuracy: 0.9308 - val_loss: 11.8164 - val_accuracy: 0.9485\n",
            "Epoch 7/10\n",
            "105/105 [==============================] - 11s 102ms/step - loss: 22.2689 - accuracy: 0.9179 - val_loss: 51.4222 - val_accuracy: 0.8419\n",
            "Epoch 8/10\n",
            "105/105 [==============================] - 11s 108ms/step - loss: 37.7606 - accuracy: 0.8957 - val_loss: 12.1351 - val_accuracy: 0.9305\n",
            "Epoch 9/10\n",
            "105/105 [==============================] - 11s 110ms/step - loss: 7.0603 - accuracy: 0.9497 - val_loss: 5.3753 - val_accuracy: 0.9557\n",
            "Epoch 10/10\n",
            "105/105 [==============================] - 12s 112ms/step - loss: 8.3576 - accuracy: 0.9401 - val_loss: 6.8916 - val_accuracy: 0.9377\n",
            "33/33 [==============================] - 1s 15ms/step - loss: 7.0250 - accuracy: 0.9511\n",
            "Test Accuracy: 0.9511494040489197\n"
          ]
        }
      ]
    }
  ]
}