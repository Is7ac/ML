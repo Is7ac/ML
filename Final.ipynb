{
  "nbformat": 4,
  "nbformat_minor": 0,
  "metadata": {
    "colab": {
      "provenance": [],
      "include_colab_link": true
    },
    "kernelspec": {
      "name": "python3",
      "display_name": "Python 3"
    },
    "language_info": {
      "name": "python"
    }
  },
  "cells": [
    {
      "cell_type": "markdown",
      "metadata": {
        "id": "view-in-github",
        "colab_type": "text"
      },
      "source": [
        "<a href=\"https://colab.research.google.com/github/Is7ac/ML/blob/main/Final.ipynb\" target=\"_parent\"><img src=\"https://colab.research.google.com/assets/colab-badge.svg\" alt=\"Open In Colab\"/></a>"
      ]
    },
    {
      "cell_type": "code",
      "execution_count": null,
      "metadata": {
        "id": "NUNCKZmfi-1_"
      },
      "outputs": [],
      "source": [
        "import numpy as np\n",
        "import cv2\n",
        "import os\n",
        "from sklearn.model_selection import train_test_split\n",
        "import tensorflow as tf"
      ]
    },
    {
      "cell_type": "code",
      "source": [
        "dataset_dir = \"/content/chest_xray.rar\""
      ],
      "metadata": {
        "id": "3bcxnH_waoII"
      },
      "execution_count": null,
      "outputs": []
    },
    {
      "cell_type": "code",
      "source": [
        "# Step 2: Image Preprocessing\n",
        "\n",
        "# Define a function to preprocess images\n",
        "def preprocess_image(image_path, target_size):\n",
        "    image = cv2.imread(image_path)\n",
        "    image = cv2.resize(image, target_size)\n",
        "    image_vector = image.flatten()  # Flatten the image\n",
        "    return image_vector"
      ],
      "metadata": {
        "id": "y4Yw4lcvs6k-"
      },
      "execution_count": null,
      "outputs": []
    },
    {
      "cell_type": "code",
      "source": [
        "# Define target image size\n",
        "target_size = (128, 128)\n",
        "\n",
        "# Load images and labels\n",
        "images = []\n",
        "labels = []\n",
        "\n",
        "for class_name in os.listdir(dataset_dir):\n",
        "    class_dir = os.path.join(dataset_dir, class_name)\n",
        "    for image_name in os.listdir(class_dir):\n",
        "        image_path = os.path.join(class_dir, image_name)\n",
        "        image_vector = preprocess_image(image_path, target_size)\n",
        "        images.append(image_vector)\n",
        "        labels.append(class_name)  # Assuming folder names are class labels\n",
        "\n",
        "# Convert lists to numpy arrays\n",
        "images = np.array(images)\n",
        "labels = np.array(labels)\n"
      ],
      "metadata": {
        "colab": {
          "base_uri": "https://localhost:8080/"
        },
        "id": "XHVD5s9zjeku",
        "outputId": "c433c65c-4caf-4657-e6fc-c6d99b2c25e2"
      },
      "execution_count": null,
      "outputs": [
        {
          "output_type": "stream",
          "name": "stdout",
          "text": [
            "[]\n",
            "[]\n"
          ]
        }
      ]
    },
    {
      "cell_type": "code",
      "source": [
        "# Step 3: Classification - Fully Connected Neural Network\n",
        "\n",
        "# Split the dataset into training and testing sets\n",
        "X_train, X_test, y_train, y_test = train_test_split(images, labels, test_size=0.2, random_state=42)\n"
      ],
      "metadata": {
        "id": "B0qDlhbXa83K"
      },
      "execution_count": null,
      "outputs": []
    },
    {
      "cell_type": "code",
      "source": [
        "# Define the neural network manually\n",
        "class FullyConnectedNN(tf.keras.Model):\n",
        "    def __init__(self):\n",
        "        super(FullyConnectedNN, self).__init__()\n",
        "        self.flatten = tf.keras.layers.Flatten(input_shape=(np.prod(target_size),))\n",
        "        self.fc1 = tf.keras.layers.Dense(128, activation='relu')\n",
        "        self.fc2 = tf.keras.layers.Dense(64, activation='relu')\n",
        "        self.output_layer = tf.keras.layers.Dense(2, activation='softmax')  # Assuming binary classification (2 classes)\n",
        "\n",
        "    def call(self, inputs):\n",
        "        x = self.flatten(inputs)\n",
        "        x = self.fc1(x)\n",
        "        x = self.fc2(x)\n",
        "        return self.output_layer(x)\n"
      ],
      "metadata": {
        "id": "8i21NDNNbQf0"
      },
      "execution_count": null,
      "outputs": []
    },
    {
      "cell_type": "code",
      "source": [
        "# Create an instance of the model\n",
        "model = FullyConnectedNN()\n",
        "\n",
        "# Compile the model\n",
        "model.compile(optimizer='adam',\n",
        "              loss='sparse_categorical_crossentropy',\n",
        "              metrics=['accuracy'])\n",
        "\n",
        "# Train the model\n",
        "model.fit(X_train, y_train, epochs=10, batch_size=32, validation_split=0.2)\n",
        "\n",
        "# Evaluate the model\n",
        "test_loss, test_acc = model.evaluate(X_test, y_test)\n",
        "print(\"Test Accuracy:\", test_acc)"
      ],
      "metadata": {
        "id": "aByI9zGkbTfc"
      },
      "execution_count": null,
      "outputs": []
    }
  ]
}